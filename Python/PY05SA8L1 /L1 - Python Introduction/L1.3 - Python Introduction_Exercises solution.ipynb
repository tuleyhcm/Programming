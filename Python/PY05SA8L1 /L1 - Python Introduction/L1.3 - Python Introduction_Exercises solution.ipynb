{
 "cells": [
  {
   "attachments": {},
   "cell_type": "markdown",
   "metadata": {},
   "source": [
    "👉 Ex1: Nhập từ bàn phím độ dài 2 cạnh của hình chữ nhật và in ra màn hình diện tích của hình chữ nhật đó."
   ]
  },
  {
   "attachments": {},
   "cell_type": "markdown",
   "metadata": {},
   "source": [
    "✳️ hint: \n",
    "\n",
    "+ `int(*str*)`: to convert a string to integer\n",
    "+ `float(*str*)`: to convert a string to float"
   ]
  },
  {
   "cell_type": "code",
   "execution_count": 1,
   "metadata": {},
   "outputs": [
    {
     "name": "stdout",
     "output_type": "stream",
     "text": [
      "dien tich la: 6.75\n"
     ]
    }
   ],
   "source": [
    "# Your code here!\n",
    "a = float(input('nhap canh a ='))\n",
    "b = float(input('nhap canh b ='))\n",
    "\n",
    "print('dien tich la:', a*b)"
   ]
  },
  {
   "attachments": {},
   "cell_type": "markdown",
   "metadata": {},
   "source": [
    "👉 Ex2: Chuyển các ký tự trong biến words thành: in hoa; viết hoa chữ cái đầu, chữ thường"
   ]
  },
  {
   "cell_type": "code",
   "execution_count": 2,
   "metadata": {},
   "outputs": [],
   "source": [
    "words = 'You only live once, but if you do it right, once is enough.'"
   ]
  },
  {
   "cell_type": "code",
   "execution_count": 3,
   "metadata": {},
   "outputs": [
    {
     "name": "stdout",
     "output_type": "stream",
     "text": [
      "YOU ONLY LIVE ONCE, BUT IF YOU DO IT RIGHT, ONCE IS ENOUGH.\n",
      "You Only Live Once, But If You Do It Right, Once Is Enough.\n",
      "you only live once, but if you do it right, once is enough.\n"
     ]
    }
   ],
   "source": [
    "# Your code here!\n",
    "print(words.upper())\n",
    "print(words.title())\n",
    "print(words.lower())\n"
   ]
  },
  {
   "attachments": {},
   "cell_type": "markdown",
   "metadata": {},
   "source": [
    "👉 Ex3: Lấy chữ 'live' từ trong chuỗi words"
   ]
  },
  {
   "cell_type": "code",
   "execution_count": 5,
   "metadata": {},
   "outputs": [
    {
     "data": {
      "text/plain": [
       "'live'"
      ]
     },
     "execution_count": 5,
     "metadata": {},
     "output_type": "execute_result"
    }
   ],
   "source": [
    "# Your code here!\n",
    "# opt1:\n",
    "words[9: 9 + len('live')]"
   ]
  },
  {
   "cell_type": "code",
   "execution_count": 7,
   "metadata": {},
   "outputs": [
    {
     "data": {
      "text/plain": [
       "'live'"
      ]
     },
     "execution_count": 7,
     "metadata": {},
     "output_type": "execute_result"
    }
   ],
   "source": [
    "# opt 2\n",
    "l_index = words.index('live')\n",
    "words[l_index: l_index+len('live')]"
   ]
  },
  {
   "attachments": {},
   "cell_type": "markdown",
   "metadata": {},
   "source": [
    "👉 Ex4: Vị trí (index) của dấu \",\" thứ 2 là bao nhiêu? "
   ]
  },
  {
   "cell_type": "code",
   "execution_count": 9,
   "metadata": {},
   "outputs": [
    {
     "data": {
      "text/plain": [
       "'You only live once, but if you do it right, once is enough.'"
      ]
     },
     "execution_count": 9,
     "metadata": {},
     "output_type": "execute_result"
    }
   ],
   "source": [
    "words"
   ]
  },
  {
   "cell_type": "code",
   "execution_count": 10,
   "metadata": {},
   "outputs": [
    {
     "data": {
      "text/plain": [
       "42"
      ]
     },
     "execution_count": 10,
     "metadata": {},
     "output_type": "execute_result"
    }
   ],
   "source": [
    "# Your code here!\n",
    "first_comma_index = words.index(',')\n",
    "words.index(',', first_comma_index+1)"
   ]
  },
  {
   "attachments": {},
   "cell_type": "markdown",
   "metadata": {},
   "source": [
    "👉 Ex5: Đảo chiểu chuỗi `words` "
   ]
  },
  {
   "cell_type": "code",
   "execution_count": 11,
   "metadata": {},
   "outputs": [
    {
     "data": {
      "text/plain": [
       "'.hguone si ecno ,thgir ti od uoy fi tub ,ecno evil ylno uoY'"
      ]
     },
     "execution_count": 11,
     "metadata": {},
     "output_type": "execute_result"
    }
   ],
   "source": [
    "# Your code here!\n",
    "words[::-1]"
   ]
  },
  {
   "attachments": {},
   "cell_type": "markdown",
   "metadata": {},
   "source": [
    "👉 Ex6: Chỉ dùng lệnh (tức là bạn không cần phải đếm) để lấy ra câu` \"but if you do it right\" `trong chuỗi `words`"
   ]
  },
  {
   "cell_type": "code",
   "execution_count": 12,
   "metadata": {},
   "outputs": [
    {
     "data": {
      "text/plain": [
       "'You only live once, but if you do it right, once is enough.'"
      ]
     },
     "execution_count": 12,
     "metadata": {},
     "output_type": "execute_result"
    }
   ],
   "source": [
    "words"
   ]
  },
  {
   "cell_type": "code",
   "execution_count": 16,
   "metadata": {},
   "outputs": [
    {
     "data": {
      "text/plain": [
       "'but if you do it right'"
      ]
     },
     "execution_count": 16,
     "metadata": {},
     "output_type": "execute_result"
    }
   ],
   "source": [
    "# Your code here!\n",
    "first_comma_index = words.index(',')\n",
    "second_comma_index = words.index(',', first_comma_index+1)\n",
    "\n",
    "words[first_comma_index+1: second_comma_index].strip()"
   ]
  },
  {
   "attachments": {},
   "cell_type": "markdown",
   "metadata": {},
   "source": [
    "👉 Ex7: Nhập từ bàn phím 1 tên của một file bất kì, nhiệm vụ của bạn là in ra màn hình đuôi của tên file đó:\n",
    "\n",
    "Ví dụ:\n",
    "+ Bạn input: `'image.jpg'`\n",
    "+ Kết quả in ra màn hình là: `'.jpg'`"
   ]
  },
  {
   "cell_type": "code",
   "execution_count": 17,
   "metadata": {},
   "outputs": [
    {
     "name": "stdout",
     "output_type": "stream",
     "text": [
      "file name is: khasdkfhka.jpg | extent: .jpg\n"
     ]
    }
   ],
   "source": [
    "# Your code here!\n",
    "file_name = input('pls input file name:')\n",
    "\n",
    "dot_index = file_name.index('.')\n",
    "ext_name = file_name[dot_index:]\n",
    "\n",
    "print(f'file name is: {file_name} | extent: {ext_name}')"
   ]
  },
  {
   "attachments": {},
   "cell_type": "markdown",
   "metadata": {},
   "source": [
    "👉 Ex8: Nhập từ bàn phím họ và tên của bạn, sau đó bạn in ra màn hình họ và độ dài họ và tên của bạn:\n",
    "\n",
    "Ví dụ:\n",
    "+ Bạn input: `'Trần Thành Tâm'`\n",
    "+ Kết quả in ra màn hình là: `Bạn họ \"Trần\", tên bạn có độ dài là: 14`"
   ]
  },
  {
   "cell_type": "code",
   "execution_count": 18,
   "metadata": {},
   "outputs": [
    {
     "name": "stdout",
     "output_type": "stream",
     "text": [
      "your name: tran thanh tam | first name: tran | length = 14\n"
     ]
    }
   ],
   "source": [
    "# Your code here!\n",
    "name = input('pls input your name:')\n",
    "\n",
    "first_space_index = name.index(' ')\n",
    "first_name = name[:first_space_index]\n",
    "name_length = len(name)\n",
    "\n",
    "print(f'your name: {name} | first name: {first_name} | length = {name_length}')"
   ]
  },
  {
   "cell_type": "markdown",
   "metadata": {},
   "source": [
    "👉 Ex9: Tách các thành phần trong chuỗi `createdDate` thành các phần nhỏ là năm, tháng, ngày.\n",
    "\n",
    "+ Expected output: `['2024', '12', '31']`"
   ]
  },
  {
   "cell_type": "code",
   "execution_count": 19,
   "metadata": {},
   "outputs": [],
   "source": [
    "createdDate = '2024-12-31'"
   ]
  },
  {
   "cell_type": "code",
   "execution_count": 20,
   "metadata": {},
   "outputs": [
    {
     "data": {
      "text/plain": [
       "['2024', '12', '31']"
      ]
     },
     "execution_count": 20,
     "metadata": {},
     "output_type": "execute_result"
    }
   ],
   "source": [
    "# Your code here!\n",
    "createdDate.split('-')"
   ]
  },
  {
   "cell_type": "markdown",
   "metadata": {},
   "source": [
    "👉 Ex10: Chọn câu đúng 🤔\n",
    "\n",
    "```python\n",
    "    x = 10\n",
    "    y = 15\n",
    "\n",
    "    x += 6\n",
    "\n",
    "    x < y\n",
    "```\n",
    "Khi chạy đoạn code trên, kết quả sẽ là:\n",
    "\n",
    "+ A: True\n",
    "+ B: False\n"
   ]
  },
  {
   "cell_type": "code",
   "execution_count": null,
   "metadata": {},
   "outputs": [],
   "source": [
    "# your answer here: B"
   ]
  },
  {
   "cell_type": "markdown",
   "metadata": {},
   "source": [
    "👉 Ex11: Chọn câu đúng 🤔\n",
    "\n",
    "```python\n",
    "    x = 10\n",
    "    y = 15\n",
    "\n",
    "    x *= 2\n",
    "\n",
    "    x <= y\n",
    "```\n",
    "Khi chạy đoạn code trên, kết quả sẽ là:\n",
    "\n",
    "+ A: True\n",
    "+ B: False\n"
   ]
  },
  {
   "cell_type": "code",
   "execution_count": null,
   "metadata": {},
   "outputs": [],
   "source": [
    "# your answer here: B"
   ]
  },
  {
   "cell_type": "markdown",
   "metadata": {},
   "source": [
    "👉 Ex12: Chọn câu đúng 🤔\n",
    "\n",
    "```python\n",
    "    x = 10\n",
    "    y = 15\n",
    "\n",
    "    x += 5\n",
    "\n",
    "    (x > 12) and (x <= y) \n",
    "```\n",
    "Khi chạy đoạn code trên, kết quả sẽ là:\n",
    "\n",
    "+ A: True\n",
    "+ B: False\n"
   ]
  },
  {
   "cell_type": "code",
   "execution_count": null,
   "metadata": {},
   "outputs": [],
   "source": [
    "# your answer here: A"
   ]
  },
  {
   "cell_type": "markdown",
   "metadata": {},
   "source": [
    "👉 Ex13: Chọn câu đúng 🤔\n",
    "\n",
    "```python\n",
    "    x = 10\n",
    "    y = 15\n",
    "\n",
    "    x += 5\n",
    "\n",
    "    (x < 12) or (x <= y) \n",
    "```\n",
    "Khi chạy đoạn code trên, kết quả sẽ là:\n",
    "\n",
    "+ A: True\n",
    "+ B: False\n"
   ]
  },
  {
   "cell_type": "code",
   "execution_count": null,
   "metadata": {},
   "outputs": [],
   "source": [
    "# your answer here: A"
   ]
  },
  {
   "cell_type": "markdown",
   "metadata": {},
   "source": [
    "👉 Ex14: Chọn câu đúng 🤔\n",
    "\n",
    "```python\n",
    "    x = 10\n",
    "    y = 15\n",
    "\n",
    "    x += 5\n",
    "\n",
    "    ( (x > 12) and (x < y) ) or (x > 10 ) \n",
    "```\n",
    "Khi chạy đoạn code trên, kết quả sẽ là:\n",
    "\n",
    "+ A: True\n",
    "+ B: False\n"
   ]
  },
  {
   "cell_type": "code",
   "execution_count": null,
   "metadata": {},
   "outputs": [],
   "source": [
    "# your answer here: A"
   ]
  }
 ],
 "metadata": {
  "kernelspec": {
   "display_name": "Python 3.9.15 ('DS')",
   "language": "python",
   "name": "python3"
  },
  "language_info": {
   "codemirror_mode": {
    "name": "ipython",
    "version": 3
   },
   "file_extension": ".py",
   "mimetype": "text/x-python",
   "name": "python",
   "nbconvert_exporter": "python",
   "pygments_lexer": "ipython3",
   "version": "3.11.7"
  },
  "orig_nbformat": 4,
  "vscode": {
   "interpreter": {
    "hash": "f6a489820ea9c3bee1f0f43e438377dc5d62d7d6492a1bda6ad9e3f1b3e1b203"
   }
  }
 },
 "nbformat": 4,
 "nbformat_minor": 2
}
