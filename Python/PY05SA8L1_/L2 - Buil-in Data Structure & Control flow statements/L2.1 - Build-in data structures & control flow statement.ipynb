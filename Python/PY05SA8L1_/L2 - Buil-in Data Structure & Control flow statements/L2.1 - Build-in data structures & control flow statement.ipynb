{
 "cells": [
  {
   "cell_type": "markdown",
   "metadata": {},
   "source": [
    "**Overview**\n",
    "+ Built-in data structures: List, Dictionary, Set, Tuple\n",
    "+ Control flow statements"
   ]
  },
  {
   "cell_type": "markdown",
   "metadata": {},
   "source": [
    "# 1 - Built-in Data Structures and sequences\n",
    "\n",
    "## 1.1- List:\n",
    "\n",
    "![img](https://media.geeksforgeeks.org/wp-content/uploads/List-Slicing.jpg)\n",
    "\n",
    "Python Lists are just like the arrays, declared in other languages which is an ordered collection of data. It is very flexible as the items in a list do not need to be of the same type."
   ]
  },
  {
   "cell_type": "code",
   "execution_count": 7,
   "metadata": {
    "collapsed": true
   },
   "outputs": [
    {
     "data": {
      "text/plain": [
       "list"
      ]
     },
     "execution_count": 7,
     "metadata": {},
     "output_type": "execute_result"
    }
   ],
   "source": [
    "# Assign a list to an variable named my_list\n",
    "my_list = [1,2,3]\n",
    "type(my_list)"
   ]
  },
  {
   "cell_type": "markdown",
   "metadata": {},
   "source": [
    "We just created a list of integers, but lists can actually hold different object types. For example:"
   ]
  },
  {
   "cell_type": "code",
   "execution_count": 5,
   "metadata": {
    "collapsed": true
   },
   "outputs": [
    {
     "data": {
      "text/plain": [
       "['A string', 23, 100.232, True, [1, 2, 3]]"
      ]
     },
     "execution_count": 5,
     "metadata": {},
     "output_type": "execute_result"
    }
   ],
   "source": [
    "my_list = ['A string', 23, 100.232, True, [1, 2, 3]]\n",
    "my_list"
   ]
  },
  {
   "cell_type": "markdown",
   "metadata": {},
   "source": [
    "How many items are in the sequence of the list? - `len()`"
   ]
  },
  {
   "cell_type": "code",
   "execution_count": 6,
   "metadata": {},
   "outputs": [
    {
     "data": {
      "text/plain": [
       "5"
      ]
     },
     "execution_count": 6,
     "metadata": {},
     "output_type": "execute_result"
    }
   ],
   "source": [
    "len(my_list)"
   ]
  },
  {
   "cell_type": "markdown",
   "metadata": {},
   "source": [
    "### 1.1.1 Indexing and Slicing\n",
    "\n",
    "Indexing and slicing work just like in strings. Let's make a new list to remind ourselves of how this works:"
   ]
  },
  {
   "cell_type": "code",
   "execution_count": 8,
   "metadata": {
    "collapsed": true
   },
   "outputs": [],
   "source": [
    "my_list = ['one', 'two', 'three', 4, 5, ['six', 7, 8]]"
   ]
  },
  {
   "cell_type": "code",
   "execution_count": 9,
   "metadata": {},
   "outputs": [
    {
     "data": {
      "text/plain": [
       "6"
      ]
     },
     "execution_count": 9,
     "metadata": {},
     "output_type": "execute_result"
    }
   ],
   "source": [
    "len(my_list)"
   ]
  },
  {
   "cell_type": "code",
   "execution_count": 10,
   "metadata": {},
   "outputs": [
    {
     "data": {
      "text/plain": [
       "'one'"
      ]
     },
     "execution_count": 10,
     "metadata": {},
     "output_type": "execute_result"
    }
   ],
   "source": [
    "# Grab first object\n",
    "my_list[0]"
   ]
  },
  {
   "cell_type": "code",
   "execution_count": 12,
   "metadata": {},
   "outputs": [
    {
     "data": {
      "text/plain": [
       "['six', 7, 8]"
      ]
     },
     "execution_count": 12,
     "metadata": {},
     "output_type": "execute_result"
    }
   ],
   "source": [
    "# Grab last object\n",
    "my_list[-1]"
   ]
  },
  {
   "cell_type": "code",
   "execution_count": 11,
   "metadata": {},
   "outputs": [
    {
     "data": {
      "text/plain": [
       "['two', 'three', 4, 5, ['six', 7, 8]]"
      ]
     },
     "execution_count": 11,
     "metadata": {},
     "output_type": "execute_result"
    }
   ],
   "source": [
    "# Grab from second object to the end\n",
    "my_list[1:]"
   ]
  },
  {
   "cell_type": "code",
   "execution_count": 14,
   "metadata": {},
   "outputs": [
    {
     "data": {
      "text/plain": [
       "['one', 'two', 'three', 4]"
      ]
     },
     "execution_count": 14,
     "metadata": {},
     "output_type": "execute_result"
    }
   ],
   "source": [
    "# Grab everything UP TO fourth object\n",
    "my_list[:4]"
   ]
  },
  {
   "cell_type": "code",
   "execution_count": 15,
   "metadata": {},
   "outputs": [
    {
     "data": {
      "text/plain": [
       "[4, 5]"
      ]
     },
     "execution_count": 15,
     "metadata": {},
     "output_type": "execute_result"
    }
   ],
   "source": [
    "# get '4', '5'\n",
    "my_list[3:5]"
   ]
  },
  {
   "cell_type": "code",
   "execution_count": 16,
   "metadata": {},
   "outputs": [
    {
     "data": {
      "text/plain": [
       "'six'"
      ]
     },
     "execution_count": 16,
     "metadata": {},
     "output_type": "execute_result"
    }
   ],
   "source": [
    "# Grab 'six':\n",
    "my_list[-1][0]"
   ]
  },
  {
   "cell_type": "code",
   "execution_count": 17,
   "metadata": {},
   "outputs": [
    {
     "data": {
      "text/plain": [
       "'six'"
      ]
     },
     "execution_count": 17,
     "metadata": {},
     "output_type": "execute_result"
    }
   ],
   "source": [
    "# Grab 'six':\n",
    "a = my_list[-1]\n",
    "a[0]\n"
   ]
  },
  {
   "cell_type": "markdown",
   "metadata": {},
   "source": [
    "We can also use + to concatenate lists, just like we did for strings."
   ]
  },
  {
   "cell_type": "code",
   "execution_count": 18,
   "metadata": {},
   "outputs": [
    {
     "data": {
      "text/plain": [
       "['one', 'two', 'three', 4, 5, ['six', 7, 8], 9, 10, 11]"
      ]
     },
     "execution_count": 18,
     "metadata": {},
     "output_type": "execute_result"
    }
   ],
   "source": [
    "# \"+\" several lists:\n",
    "my_list + [9 , 10, 11]"
   ]
  },
  {
   "cell_type": "code",
   "execution_count": 20,
   "metadata": {},
   "outputs": [
    {
     "data": {
      "text/plain": [
       "['one',\n",
       " 'two',\n",
       " 'three',\n",
       " 4,\n",
       " 5,\n",
       " ['six', 7, 8],\n",
       " 'one',\n",
       " 'two',\n",
       " 'three',\n",
       " 4,\n",
       " 5,\n",
       " ['six', 7, 8]]"
      ]
     },
     "execution_count": 20,
     "metadata": {},
     "output_type": "execute_result"
    }
   ],
   "source": [
    "# Make the list double\n",
    "my_list + my_list"
   ]
  },
  {
   "cell_type": "code",
   "execution_count": 19,
   "metadata": {},
   "outputs": [
    {
     "data": {
      "text/plain": [
       "[['six', 7, 8], 5, 4, 'three', 'two', 'one']"
      ]
     },
     "execution_count": 19,
     "metadata": {},
     "output_type": "execute_result"
    }
   ],
   "source": [
    "# Revert values - my_list[::-1]\n",
    "my_list[::-1]"
   ]
  },
  {
   "cell_type": "code",
   "execution_count": 22,
   "metadata": {},
   "outputs": [
    {
     "data": {
      "text/plain": [
       "['one', 'two', 3, 4, 5, ['six', 7, 8]]"
      ]
     },
     "execution_count": 22,
     "metadata": {},
     "output_type": "execute_result"
    }
   ],
   "source": [
    "# Change 'three' -> 3:\n",
    "my_list[2] = 3\n",
    "my_list"
   ]
  },
  {
   "cell_type": "code",
   "execution_count": 25,
   "metadata": {},
   "outputs": [
    {
     "data": {
      "text/plain": [
       "['one', 'two', 3, 'four', 'five', ['six', 7, 8]]"
      ]
     },
     "execution_count": 25,
     "metadata": {},
     "output_type": "execute_result"
    }
   ],
   "source": [
    "# Change 4, 5 -> 'four', 'five':\n",
    "my_list[3:5] = ['four','five']\n",
    "my_list\n"
   ]
  },
  {
   "cell_type": "markdown",
   "metadata": {},
   "source": [
    "### 1.1.2. List Methods"
   ]
  },
  {
   "cell_type": "code",
   "execution_count": 27,
   "metadata": {
    "collapsed": true
   },
   "outputs": [],
   "source": [
    "# Create a new list\n",
    "planets = ['Mercury', 'Venus', 'Earth', 'Mars', 'Jupiter', 'Saturn', 'Uranus', 'Neptune']"
   ]
  },
  {
   "cell_type": "code",
   "execution_count": 33,
   "metadata": {},
   "outputs": [
    {
     "data": {
      "text/plain": [
       "['Mercury',\n",
       " 'Venus',\n",
       " 'Earth',\n",
       " 'Laos',\n",
       " 'Mars',\n",
       " 'Jupiter',\n",
       " 'Saturn',\n",
       " 'Uranus',\n",
       " 'Neptune',\n",
       " 'Vietnam',\n",
       " 'Campuchia',\n",
       " 'abc',\n",
       " 'abc']"
      ]
     },
     "execution_count": 33,
     "metadata": {},
     "output_type": "execute_result"
    }
   ],
   "source": [
    "planets = planets + ['abc']\n",
    "planets"
   ]
  },
  {
   "attachments": {},
   "cell_type": "markdown",
   "metadata": {},
   "source": [
    "**👉 .append():** - adds an item to the end of the list."
   ]
  },
  {
   "cell_type": "code",
   "execution_count": 52,
   "metadata": {
    "collapsed": true
   },
   "outputs": [
    {
     "data": {
      "text/plain": [
       "['Campuchia',\n",
       " 'Earth',\n",
       " 'Jupiter',\n",
       " 'Mars',\n",
       " 'Mercury',\n",
       " 'Neptune',\n",
       " 'Saturn',\n",
       " 'Uranus',\n",
       " 'Venus',\n",
       " 'Earth']"
      ]
     },
     "execution_count": 52,
     "metadata": {},
     "output_type": "execute_result"
    }
   ],
   "source": [
    "# Append:\n",
    "planets.append('Vietnam')\n",
    "planets"
   ]
  },
  {
   "cell_type": "code",
   "execution_count": 30,
   "metadata": {},
   "outputs": [
    {
     "data": {
      "text/plain": [
       "['Mercury',\n",
       " 'Venus',\n",
       " 'Earth',\n",
       " 'Mars',\n",
       " 'Jupiter',\n",
       " 'Saturn',\n",
       " 'Uranus',\n",
       " 'Neptune',\n",
       " 'Vietnam',\n",
       " 'Campuchia']"
      ]
     },
     "execution_count": 30,
     "metadata": {},
     "output_type": "execute_result"
    }
   ],
   "source": [
    "#❓ Help me append \"Campuchia\" into planets list:\n",
    "# Your code here:\n",
    "planets.append('Campuchia')\n",
    "planets"
   ]
  },
  {
   "attachments": {},
   "cell_type": "markdown",
   "metadata": {},
   "source": [
    "👉 **.pop()** - remove value based on its index"
   ]
  },
  {
   "cell_type": "code",
   "execution_count": 36,
   "metadata": {},
   "outputs": [
    {
     "data": {
      "text/plain": [
       "['Mercury',\n",
       " 'Venus',\n",
       " 'Earth',\n",
       " 'Laos',\n",
       " 'Mars',\n",
       " 'Jupiter',\n",
       " 'Saturn',\n",
       " 'Uranus',\n",
       " 'Neptune',\n",
       " 'Vietnam',\n",
       " 'Campuchia']"
      ]
     },
     "execution_count": 36,
     "metadata": {},
     "output_type": "execute_result"
    }
   ],
   "source": [
    "# Pop off the the last value:\n",
    "planets.pop(-1)\n",
    "planets"
   ]
  },
  {
   "attachments": {},
   "cell_type": "markdown",
   "metadata": {},
   "source": [
    "👉 **.remove()** - removes the first matching element"
   ]
  },
  {
   "cell_type": "code",
   "execution_count": 53,
   "metadata": {},
   "outputs": [],
   "source": [
    "planets.remove('Campuchia')"
   ]
  },
  {
   "cell_type": "code",
   "execution_count": 54,
   "metadata": {},
   "outputs": [
    {
     "data": {
      "text/plain": [
       "['Earth',\n",
       " 'Jupiter',\n",
       " 'Mars',\n",
       " 'Mercury',\n",
       " 'Neptune',\n",
       " 'Saturn',\n",
       " 'Uranus',\n",
       " 'Venus',\n",
       " 'Earth']"
      ]
     },
     "execution_count": 54,
     "metadata": {},
     "output_type": "execute_result"
    }
   ],
   "source": [
    "planets"
   ]
  },
  {
   "attachments": {},
   "cell_type": "markdown",
   "metadata": {},
   "source": [
    "👉 **.insert()** - inserts an element to the list at the specified index."
   ]
  },
  {
   "cell_type": "code",
   "execution_count": 31,
   "metadata": {},
   "outputs": [
    {
     "data": {
      "text/plain": [
       "['Mercury',\n",
       " 'Venus',\n",
       " 'Earth',\n",
       " 'Laos',\n",
       " 'Mars',\n",
       " 'Jupiter',\n",
       " 'Saturn',\n",
       " 'Uranus',\n",
       " 'Neptune',\n",
       " 'Vietnam',\n",
       " 'Campuchia']"
      ]
     },
     "execution_count": 31,
     "metadata": {},
     "output_type": "execute_result"
    }
   ],
   "source": [
    "# Insert a specific position in list: Insert Sun into the first possition\n",
    "planets.insert(3, 'Laos')\n",
    "planets "
   ]
  },
  {
   "cell_type": "code",
   "execution_count": 44,
   "metadata": {},
   "outputs": [
    {
     "data": {
      "text/plain": [
       "['Mercury', 'Mars', 'Uranus']"
      ]
     },
     "execution_count": 44,
     "metadata": {},
     "output_type": "execute_result"
    }
   ],
   "source": [
    "planet1 = planets\n",
    "planet1[::3]"
   ]
  },
  {
   "attachments": {},
   "cell_type": "markdown",
   "metadata": {},
   "source": [
    "👉 **.index( `element`, `_start_from` )** - returns the index of the specified element in the list."
   ]
  },
  {
   "cell_type": "code",
   "execution_count": 45,
   "metadata": {},
   "outputs": [
    {
     "data": {
      "text/plain": [
       "['Mercury',\n",
       " 'Venus',\n",
       " 'Earth',\n",
       " 'Mars',\n",
       " 'Jupiter',\n",
       " 'Saturn',\n",
       " 'Uranus',\n",
       " 'Neptune',\n",
       " 'Campuchia']"
      ]
     },
     "execution_count": 45,
     "metadata": {},
     "output_type": "execute_result"
    }
   ],
   "source": [
    "planets"
   ]
  },
  {
   "cell_type": "code",
   "execution_count": 48,
   "metadata": {},
   "outputs": [
    {
     "data": {
      "text/plain": [
       "2"
      ]
     },
     "execution_count": 48,
     "metadata": {},
     "output_type": "execute_result"
    }
   ],
   "source": [
    "# What is the position of Earth:\n",
    "\n",
    "# Note: By default, we will get the first index of value matching with specified value\n",
    "first_index = planets.index('Earth')\n",
    "first_index"
   ]
  },
  {
   "cell_type": "code",
   "execution_count": 72,
   "metadata": {},
   "outputs": [
    {
     "data": {
      "text/plain": [
       "5"
      ]
     },
     "execution_count": 72,
     "metadata": {},
     "output_type": "execute_result"
    }
   ],
   "source": [
    "planets.index('Earth', first_index+1)"
   ]
  },
  {
   "attachments": {},
   "cell_type": "markdown",
   "metadata": {},
   "source": [
    "👉 **.sort( `reverse = True/False`)** - sorts the items of a list in ascending or descending"
   ]
  },
  {
   "cell_type": "code",
   "execution_count": 55,
   "metadata": {},
   "outputs": [
    {
     "data": {
      "text/plain": [
       "['Earth',\n",
       " 'Earth',\n",
       " 'Jupiter',\n",
       " 'Mars',\n",
       " 'Mercury',\n",
       " 'Neptune',\n",
       " 'Saturn',\n",
       " 'Uranus',\n",
       " 'Venus']"
      ]
     },
     "execution_count": 55,
     "metadata": {},
     "output_type": "execute_result"
    }
   ],
   "source": [
    "# Sort list from A->Z:\n",
    "planets.sort()\n",
    "planets"
   ]
  },
  {
   "cell_type": "code",
   "execution_count": 64,
   "metadata": {},
   "outputs": [
    {
     "data": {
      "text/plain": [
       "['Venus',\n",
       " 'Uranus',\n",
       " 'Saturn',\n",
       " 'Neptune',\n",
       " 'Mercury',\n",
       " 'Mars',\n",
       " 'Jupiter',\n",
       " 'Earth',\n",
       " 'Earth']"
      ]
     },
     "execution_count": 64,
     "metadata": {},
     "output_type": "execute_result"
    }
   ],
   "source": [
    "# Sort list from Z->A:\n",
    "planets.sort(reverse = True)\n",
    "planets"
   ]
  },
  {
   "attachments": {},
   "cell_type": "markdown",
   "metadata": {},
   "source": [
    "👉 **random.shuffle()** - random reorganize the order of the list items"
   ]
  },
  {
   "cell_type": "code",
   "execution_count": null,
   "metadata": {},
   "outputs": [],
   "source": [
    "import random #do hàm shuffle nằm trong thư viện random"
   ]
  },
  {
   "cell_type": "code",
   "execution_count": 65,
   "metadata": {},
   "outputs": [
    {
     "data": {
      "text/plain": [
       "['Mars',\n",
       " 'Mercury',\n",
       " 'Uranus',\n",
       " 'Saturn',\n",
       " 'Jupiter',\n",
       " 'Earth',\n",
       " 'Neptune',\n",
       " 'Venus',\n",
       " 'Earth']"
      ]
     },
     "execution_count": 65,
     "metadata": {},
     "output_type": "execute_result"
    }
   ],
   "source": [
    "# Shuffle the list:\n",
    "random.shuffle(planets)\n",
    "planets"
   ]
  },
  {
   "attachments": {},
   "cell_type": "markdown",
   "metadata": {},
   "source": [
    "👉 **.count()** - count nunber of times of a element appears in the list"
   ]
  },
  {
   "cell_type": "code",
   "execution_count": 67,
   "metadata": {},
   "outputs": [
    {
     "data": {
      "text/plain": [
       "2"
      ]
     },
     "execution_count": 67,
     "metadata": {},
     "output_type": "execute_result"
    }
   ],
   "source": [
    "# Count number of value in list:\n",
    "planets.count('Earth')"
   ]
  },
  {
   "cell_type": "markdown",
   "metadata": {},
   "source": [
    "👉 **<string>.join(iterable)** - takes all items in an iterable and joins them into one string."
   ]
  },
  {
   "cell_type": "code",
   "execution_count": 69,
   "metadata": {},
   "outputs": [
    {
     "data": {
      "text/plain": [
       "['hello', 'I', 'am', 'Tam', 'Tran']"
      ]
     },
     "execution_count": 69,
     "metadata": {},
     "output_type": "execute_result"
    }
   ],
   "source": [
    "my_text = ['hello', 'I', 'am', 'Tam', 'Tran']\n",
    "my_text"
   ]
  },
  {
   "cell_type": "code",
   "execution_count": 70,
   "metadata": {},
   "outputs": [
    {
     "data": {
      "text/plain": [
       "'hello I am Tam Tran'"
      ]
     },
     "execution_count": 70,
     "metadata": {},
     "output_type": "execute_result"
    }
   ],
   "source": [
    "# Let's join my_text string values into a completing sentence:\n",
    "' '.join(my_text)"
   ]
  },
  {
   "cell_type": "code",
   "execution_count": 71,
   "metadata": {},
   "outputs": [
    {
     "data": {
      "text/plain": [
       "'hello===I===am===Tam===Tran'"
      ]
     },
     "execution_count": 71,
     "metadata": {},
     "output_type": "execute_result"
    }
   ],
   "source": [
    "'==='.join(my_text)"
   ]
  },
  {
   "cell_type": "markdown",
   "metadata": {},
   "source": [
    "## 1.2- Dictionary\n",
    "\n",
    "![](https://programmathically.com/wp-content/uploads/2021/05/dictionary-768x416.png)\n",
    "\n",
    "A dictionary is a data structure that stores items using key-value pairs. Each entry needs to have a unique key. Entries are ordered and can be changed. Dictionaries come inbuilt with Python and are created using curly brackets."
   ]
  },
  {
   "cell_type": "code",
   "execution_count": 74,
   "metadata": {
    "collapsed": true
   },
   "outputs": [
    {
     "data": {
      "text/plain": [
       "{'number_phone': 123456789, 'name': 'Tâm', 'lovers': ['Hồ Ngọc Hà', 'Mỹ Tâm']}"
      ]
     },
     "execution_count": 74,
     "metadata": {},
     "output_type": "execute_result"
    }
   ],
   "source": [
    "# Make a dictionary with {} and : to signify a key and a value\n",
    "my_dict = {'number_phone': 123456789, 'name': 'Tâm', 'lovers': ['Hồ Ngọc Hà', 'Mỹ Tâm']}\n",
    "my_dict"
   ]
  },
  {
   "cell_type": "code",
   "execution_count": 75,
   "metadata": {},
   "outputs": [
    {
     "data": {
      "text/plain": [
       "123456789"
      ]
     },
     "execution_count": 75,
     "metadata": {},
     "output_type": "execute_result"
    }
   ],
   "source": [
    "# Call values by their key - get phonenumber of Tam\n",
    "my_dict['number_phone']"
   ]
  },
  {
   "cell_type": "code",
   "execution_count": 76,
   "metadata": {},
   "outputs": [
    {
     "data": {
      "text/plain": [
       "['Hồ Ngọc Hà', 'Mỹ Tâm']"
      ]
     },
     "execution_count": 76,
     "metadata": {},
     "output_type": "execute_result"
    }
   ],
   "source": [
    "my_dict['lovers']"
   ]
  },
  {
   "cell_type": "code",
   "execution_count": 77,
   "metadata": {},
   "outputs": [
    {
     "data": {
      "text/plain": [
       "dict_keys(['number_phone', 'name', 'lovers'])"
      ]
     },
     "execution_count": 77,
     "metadata": {},
     "output_type": "execute_result"
    }
   ],
   "source": [
    "# Return all keys: .keys()\n",
    "my_dict.keys()"
   ]
  },
  {
   "cell_type": "code",
   "execution_count": 78,
   "metadata": {},
   "outputs": [
    {
     "data": {
      "text/plain": [
       "dict_values([123456789, 'Tâm', ['Hồ Ngọc Hà', 'Mỹ Tâm']])"
      ]
     },
     "execution_count": 78,
     "metadata": {},
     "output_type": "execute_result"
    }
   ],
   "source": [
    "# Return all values: .values()\n",
    "my_dict.values()"
   ]
  },
  {
   "cell_type": "code",
   "execution_count": 79,
   "metadata": {},
   "outputs": [
    {
     "data": {
      "text/plain": [
       "dict_items([('number_phone', 123456789), ('name', 'Tâm'), ('lovers', ['Hồ Ngọc Hà', 'Mỹ Tâm'])])"
      ]
     },
     "execution_count": 79,
     "metadata": {},
     "output_type": "execute_result"
    }
   ],
   "source": [
    "# Return all pair of keys and values: .items()\n",
    "my_dict.items()"
   ]
  },
  {
   "cell_type": "code",
   "execution_count": 81,
   "metadata": {},
   "outputs": [
    {
     "data": {
      "text/plain": [
       "('lovers', ['Hồ Ngọc Hà', 'Mỹ Tâm'])"
      ]
     },
     "execution_count": 81,
     "metadata": {},
     "output_type": "execute_result"
    }
   ],
   "source": [
    "list(my_dict.items())[-1]\n"
   ]
  },
  {
   "cell_type": "code",
   "execution_count": 85,
   "metadata": {},
   "outputs": [
    {
     "data": {
      "text/plain": [
       "{'number_phone': '099999999',\n",
       " 'name': 'Tâm',\n",
       " 'lovers': ['Hồ Ngọc Hà', 'Mỹ Tâm']}"
      ]
     },
     "execution_count": 85,
     "metadata": {},
     "output_type": "execute_result"
    }
   ],
   "source": [
    "my_dict"
   ]
  },
  {
   "cell_type": "code",
   "execution_count": 83,
   "metadata": {},
   "outputs": [],
   "source": [
    "# Update value - Changing Tam's phone number to 099999999\n",
    "\n",
    "my_dict['number_phone'] = '099999999'"
   ]
  },
  {
   "cell_type": "code",
   "execution_count": 88,
   "metadata": {},
   "outputs": [],
   "source": [
    "# Hà Nhi fall in love with Tâm!:\n",
    "my_dict['lovers'].append('Hà Nhi')"
   ]
  },
  {
   "cell_type": "code",
   "execution_count": 89,
   "metadata": {},
   "outputs": [
    {
     "data": {
      "text/plain": [
       "{'number_phone': '099999999',\n",
       " 'name': 'Tâm',\n",
       " 'lovers': ['Hồ Ngọc Hà', 'Mỹ Tâm', 'Hà Nhi']}"
      ]
     },
     "execution_count": 89,
     "metadata": {},
     "output_type": "execute_result"
    }
   ],
   "source": [
    "my_dict"
   ]
  },
  {
   "cell_type": "code",
   "execution_count": 90,
   "metadata": {},
   "outputs": [
    {
     "data": {
      "text/plain": [
       "{'number_phone': '099999999', 'name': 'Tâm'}"
      ]
     },
     "execution_count": 90,
     "metadata": {},
     "output_type": "execute_result"
    }
   ],
   "source": [
    "# Tâm is bad boy so now no body love Tâm anymore! :( - Remove pair of key value - .pop(<key>)\n",
    "my_dict.pop('lovers')\n",
    "my_dict"
   ]
  },
  {
   "cell_type": "code",
   "execution_count": 92,
   "metadata": {},
   "outputs": [
    {
     "data": {
      "text/plain": [
       "{'number_phone': '099999999', 'name': 'Tâm', 'wife': 'Taylor Swift'}"
      ]
     },
     "execution_count": 92,
     "metadata": {},
     "output_type": "execute_result"
    }
   ],
   "source": [
    "# Tam is so sad and he traveled to the US and married Taylor Swift\n",
    "# Add new pair of key-value\n",
    "my_dict['wife'] = 'Taylor Swift'\n",
    "my_dict"
   ]
  },
  {
   "cell_type": "markdown",
   "metadata": {},
   "source": [
    "## 😏 CHALLENGE!:"
   ]
  },
  {
   "cell_type": "code",
   "execution_count": 96,
   "metadata": {},
   "outputs": [
    {
     "data": {
      "text/plain": [
       "'Cap Chris'"
      ]
     },
     "execution_count": 96,
     "metadata": {},
     "output_type": "execute_result"
    }
   ],
   "source": [
    "# ex1: Returns \"Cap Chris\":\n",
    "teams = [['Coach John', 'Cap Crunch', 'Tom, Timmy'],['Coach Jan', 'Cap Alan', 'Bruce'],['Coach Thomas', 'Cap Chris', 'Tony', 'Peter']]\n",
    "\n",
    "# Your code here \n",
    "teams[-1][1]\n"
   ]
  },
  {
   "cell_type": "code",
   "execution_count": 98,
   "metadata": {},
   "outputs": [
    {
     "data": {
      "text/plain": [
       "['Mercury', 'Venus', 'Earth', 'Mars']"
      ]
     },
     "execution_count": 98,
     "metadata": {},
     "output_type": "execute_result"
    }
   ],
   "source": [
    "# ex2: Print out all the planets that comes before Mars (including Mars)\n",
    "planets = ['Mercury', 'Venus', 'Earth', 'Mars', 'Jupiter', 'Saturn', 'Uranus', 'Neptune']\n",
    "\n",
    "# Your code here \n",
    "planets[:4]"
   ]
  },
  {
   "cell_type": "code",
   "execution_count": 112,
   "metadata": {},
   "outputs": [
    {
     "data": {
      "text/plain": [
       "['Trái Đất', 'Venus', 'Mercury']"
      ]
     },
     "execution_count": 112,
     "metadata": {},
     "output_type": "execute_result"
    }
   ],
   "source": [
    "# Ex3: Print out all the planets that comes before Mars (including Mars) but backward \n",
    "\n",
    "# Your code here \n",
    "planets[: planets.index('Mars')][::-1]"
   ]
  },
  {
   "cell_type": "code",
   "execution_count": 101,
   "metadata": {},
   "outputs": [],
   "source": [
    "# Ex4: Change name of \"Earth\" to \"Trái Đất\"\n",
    "\n",
    "# Your code here \n",
    "planets[2] = 'Trái Đất'"
   ]
  },
  {
   "cell_type": "code",
   "execution_count": 102,
   "metadata": {},
   "outputs": [
    {
     "data": {
      "text/plain": [
       "['Mercury',\n",
       " 'Venus',\n",
       " 'Trái Đất',\n",
       " 'Mars',\n",
       " 'Jupiter',\n",
       " 'Saturn',\n",
       " 'Uranus',\n",
       " 'Neptune']"
      ]
     },
     "execution_count": 102,
     "metadata": {},
     "output_type": "execute_result"
    }
   ],
   "source": [
    "planets"
   ]
  },
  {
   "cell_type": "code",
   "execution_count": 109,
   "metadata": {},
   "outputs": [
    {
     "data": {
      "text/plain": [
       "'Python'"
      ]
     },
     "execution_count": 109,
     "metadata": {},
     "output_type": "execute_result"
    }
   ],
   "source": [
    "# Ex5: Return 'Python' from my_dict as below:\n",
    "my_dict = {\n",
    "    'a': [1, 2, 3],\n",
    "    'b': [4, 5, ['six', 'Python']]\n",
    "}\n",
    "\n",
    "# Your code here \n",
    "list(my_dict.items())[-1][-1][-1][-1]\n",
    "\n"
   ]
  },
  {
   "cell_type": "code",
   "execution_count": 113,
   "metadata": {},
   "outputs": [
    {
     "data": {
      "text/plain": [
       "'Python'"
      ]
     },
     "execution_count": 113,
     "metadata": {},
     "output_type": "execute_result"
    }
   ],
   "source": [
    "my_dict['b'][-1][-1]"
   ]
  },
  {
   "cell_type": "code",
   "execution_count": 111,
   "metadata": {},
   "outputs": [
    {
     "data": {
      "text/plain": [
       "{'a': [1, 2, 3], 'b': [4, 5, ['six', 'Python']], 'c': [7, 8, 9]}"
      ]
     },
     "execution_count": 111,
     "metadata": {},
     "output_type": "execute_result"
    }
   ],
   "source": [
    "# Ex6: Add the pair of key and value: 'c': [7, 8, 9] to my_dict:\n",
    "\n",
    "# Your code here \n",
    "my_dict['c'] = [7, 8, 9]\n",
    "my_dict"
   ]
  },
  {
   "cell_type": "code",
   "execution_count": null,
   "metadata": {},
   "outputs": [],
   "source": []
  },
  {
   "cell_type": "markdown",
   "metadata": {},
   "source": [
    "## 1.3- Tuples\n",
    "\n",
    "![img](https://pynative.com/wp-content/uploads/2021/02/python-tuple.jpg)\n",
    "\n",
    "In Python tuples are very similar to lists, however, unlike lists they are *immutable* meaning they can not be changed. You would use tuples to present things that shouldn't be changed, such as days of the week, or dates on a calendar. "
   ]
  },
  {
   "cell_type": "code",
   "execution_count": null,
   "metadata": {
    "collapsed": true
   },
   "outputs": [],
   "source": [
    "# Create a tuple\n",
    "t = (1,2,3, 'four', [5, 'six'], 3, 3, 2)"
   ]
  },
  {
   "cell_type": "code",
   "execution_count": null,
   "metadata": {},
   "outputs": [],
   "source": [
    "# Check len just like a list"
   ]
  },
  {
   "cell_type": "code",
   "execution_count": null,
   "metadata": {},
   "outputs": [],
   "source": [
    "# Use indexing just like we did in lists"
   ]
  },
  {
   "cell_type": "code",
   "execution_count": null,
   "metadata": {},
   "outputs": [],
   "source": [
    "# Slicing just like a list"
   ]
  },
  {
   "cell_type": "code",
   "execution_count": null,
   "metadata": {},
   "outputs": [],
   "source": [
    "# Value unchangeable and insertable - Try to change first object to 'one'\n"
   ]
  },
  {
   "cell_type": "markdown",
   "metadata": {},
   "source": [
    "**Basic Tuple Methods**\n",
    "\n",
    "Tuples have built-in methods, but not as many as lists do. Let's look at two of them:\n",
    "\n",
    "| Method   | Description                                                                             |\n",
    "|----------|-----------------------------------------------------------------------------------------|\n",
    "| .count() | Returns the number of times a specified value occurs in a tuple                         |\n",
    "| .index() | Searches the tuple for a specified value and returns the position of where it was found |\n"
   ]
  },
  {
   "cell_type": "code",
   "execution_count": null,
   "metadata": {},
   "outputs": [],
   "source": [
    "# Use .index to enter a value and return the index\n"
   ]
  },
  {
   "cell_type": "code",
   "execution_count": null,
   "metadata": {},
   "outputs": [],
   "source": [
    "# Use .count to count the number of times a value appears\n"
   ]
  },
  {
   "cell_type": "code",
   "execution_count": null,
   "metadata": {},
   "outputs": [],
   "source": [
    "# convert a tupple to List: - tuple()\n"
   ]
  },
  {
   "cell_type": "markdown",
   "metadata": {},
   "source": [
    "## 1.4- Set\n",
    "\n",
    "There are two other object types in Python that we should quickly cover\n",
    "\n",
    "![set img](https://pynative.com/wp-content/uploads/2021/03/python-sets.jpg)\n",
    "\n",
    "Sets are an unordered collection of *unique* elements. We can construct them by using the set() function. Let's go ahead and make a set to see how it works"
   ]
  },
  {
   "cell_type": "code",
   "execution_count": null,
   "metadata": {
    "collapsed": true
   },
   "outputs": [],
   "source": [
    "# Creat a set:"
   ]
  },
  {
   "cell_type": "code",
   "execution_count": null,
   "metadata": {
    "collapsed": true
   },
   "outputs": [],
   "source": [
    "# We add to sets with the add() method\n"
   ]
  },
  {
   "cell_type": "code",
   "execution_count": null,
   "metadata": {},
   "outputs": [],
   "source": [
    "# Add two again! But it just show one since set will automatically remove duplicated\n"
   ]
  },
  {
   "cell_type": "code",
   "execution_count": null,
   "metadata": {
    "collapsed": true
   },
   "outputs": [],
   "source": [
    "# Create a list with repeats\n",
    "list1 = ['number', 7, 1,1,2,2,3,4,5,6,1,1]"
   ]
  },
  {
   "cell_type": "code",
   "execution_count": null,
   "metadata": {},
   "outputs": [],
   "source": [
    "# Cast as set to get unique values and it also reorder the list\n",
    "set1 = set(list1)\n",
    "set1"
   ]
  },
  {
   "cell_type": "code",
   "execution_count": null,
   "metadata": {},
   "outputs": [],
   "source": [
    "# other way to remove duplicated values by using do-not-allow-duplicate property of dictionary's key.\n",
    "list(dict.fromkeys(list1).keys())"
   ]
  },
  {
   "cell_type": "code",
   "execution_count": null,
   "metadata": {},
   "outputs": [],
   "source": [
    "# Set can not indexing:\n",
    "set1[0]"
   ]
  },
  {
   "cell_type": "markdown",
   "metadata": {},
   "source": [
    "## 1.5- Type casting\n",
    "\n",
    "Python very flexible on change datatypes each other within `list`, `tuple` and `set`"
   ]
  },
  {
   "cell_type": "code",
   "execution_count": null,
   "metadata": {},
   "outputs": [],
   "source": [
    "# change to tuple:"
   ]
  },
  {
   "cell_type": "code",
   "execution_count": null,
   "metadata": {},
   "outputs": [],
   "source": [
    "# change to set:"
   ]
  },
  {
   "cell_type": "code",
   "execution_count": null,
   "metadata": {},
   "outputs": [],
   "source": [
    "# change to list:"
   ]
  },
  {
   "cell_type": "markdown",
   "metadata": {},
   "source": [
    "# 2 - Control Flow statements (Part 1)\n",
    "## 2.1 - if, elif, else Statements\n",
    "\n",
    "<img src=\"https://i.imgur.com/fqJOBUS.png\" width=\"400\">\n"
   ]
  },
  {
   "cell_type": "code",
   "execution_count": 115,
   "metadata": {},
   "outputs": [
    {
     "name": "stdout",
     "output_type": "stream",
     "text": [
      "x = y = 5\n"
     ]
    }
   ],
   "source": [
    "# Give x, y as values below, print the larger number:\n",
    "x = int(input('pls input x: '))\n",
    "y = int(input('pls input y: '))\n",
    "\n",
    "if x>y:\n",
    "    print('x > y, x =', x)\n",
    "elif x<y:\n",
    "    print('x < y, y =', y)\n",
    "else:\n",
    "    print('x = y =', x)"
   ]
  },
  {
   "cell_type": "code",
   "execution_count": null,
   "metadata": {},
   "outputs": [],
   "source": [
    "# Find the bigger number with x,y will be inputed from your keyboard\n"
   ]
  },
  {
   "attachments": {},
   "cell_type": "markdown",
   "metadata": {},
   "source": [
    "🤔 Ex: A school has following rules for grading system:\n",
    "+ Below 25 - F\n",
    "+ 25 to 45 - E\n",
    "+ 45 to 50 - D\n",
    "+ 50 to 60 - C\n",
    "+ 60 to 80 - B\n",
    "+ Above 80 - A\n",
    "\n",
    "Ask user to enter marks by keyboard and print the corresponding grade."
   ]
  },
  {
   "cell_type": "code",
   "execution_count": 118,
   "metadata": {},
   "outputs": [
    {
     "name": "stdout",
     "output_type": "stream",
     "text": [
      "Below  1 F\n"
     ]
    }
   ],
   "source": [
    "# Your code here:\n",
    "score = int(input('pls input your score: '))\n",
    "\n",
    "if score < 25:\n",
    "    print('F')\n",
    "elif (score >= 25) and (score < 45):\n",
    "    print('E')\n",
    "elif (score >= 45) and (score < 50):\n",
    "    print('D')\n",
    "elif (score >= 50) and (score < 60):\n",
    "    print('C')\n",
    "elif (score >= 60) and (score < 80):\n",
    "    print('B')\n",
    "else:\n",
    "    print('A')"
   ]
  },
  {
   "cell_type": "code",
   "execution_count": 119,
   "metadata": {},
   "outputs": [
    {
     "name": "stdout",
     "output_type": "stream",
     "text": [
      "C\n"
     ]
    }
   ],
   "source": [
    "score = int(input('pls input your score: '))\n",
    "\n",
    "if score < 25:\n",
    "    print('F')\n",
    "elif (score < 45):\n",
    "    print('E')\n",
    "elif (score < 50):\n",
    "    print('D')\n",
    "elif (score < 60):\n",
    "    print('C')\n",
    "elif (score < 80):\n",
    "    print('B')\n",
    "else:\n",
    "    print('A')"
   ]
  },
  {
   "cell_type": "markdown",
   "metadata": {},
   "source": [
    "## 2.2 - for Loops\n",
    "\n",
    "A <code>for</code> loop acts as an iterator in Python; it goes through items that are in a *sequence* or any other iterable item. Objects that we've learned about that we can iterate over include strings, lists, tuples, and even built-in iterables for dictionaries, such as keys or values.\n",
    "\n",
    "<img src=\"https://i.ibb.co/8zsRg1F/5.png\" width=\"400\">\n",
    "\n",
    "\n",
    "    "
   ]
  },
  {
   "attachments": {},
   "cell_type": "markdown",
   "metadata": {},
   "source": [
    "👉 **Loop through a LIST**"
   ]
  },
  {
   "cell_type": "code",
   "execution_count": null,
   "metadata": {
    "collapsed": true
   },
   "outputs": [],
   "source": [
    "# We'll learn how to automate this sort of list in the next lecture\n",
    "list1 = [1,2,3,4,5,6,7,8,9,10]"
   ]
  },
  {
   "cell_type": "code",
   "execution_count": null,
   "metadata": {},
   "outputs": [],
   "source": [
    "# loop through each value of list1"
   ]
  },
  {
   "attachments": {},
   "cell_type": "markdown",
   "metadata": {},
   "source": [
    "The `range(start, stop, step)` function returns a sequence of numbers, starting from 0 by default, and increments by 1 (by default), and stops before a specified number."
   ]
  },
  {
   "cell_type": "markdown",
   "metadata": {},
   "source": [
    "🤔 How to say `I love you!` to your lover 1000 times??!!??\n",
    "\n",
    "<img src=\"https://i.pinimg.com/564x/d0/ac/04/d0ac0401f8449ce35f4bc33d7a45a25b.jpg\" width=\"350\">\n"
   ]
  },
  {
   "cell_type": "code",
   "execution_count": null,
   "metadata": {},
   "outputs": [],
   "source": [
    "# create a range of integers to below 10"
   ]
  },
  {
   "cell_type": "code",
   "execution_count": null,
   "metadata": {},
   "outputs": [],
   "source": [
    "# create a range of integers from 3 to 15"
   ]
  },
  {
   "cell_type": "code",
   "execution_count": null,
   "metadata": {},
   "outputs": [],
   "source": [
    "# create a range of integers from 3 to 15 step 2"
   ]
  },
  {
   "cell_type": "code",
   "execution_count": null,
   "metadata": {},
   "outputs": [],
   "source": [
    "# 🤔 Print the numbers that are divisible by 2 less than 20?\n"
   ]
  },
  {
   "attachments": {},
   "cell_type": "markdown",
   "metadata": {},
   "source": [
    "👉 **Loop through a STRING**"
   ]
  },
  {
   "cell_type": "code",
   "execution_count": null,
   "metadata": {},
   "outputs": [],
   "source": [
    "# for loop with string\n",
    "words = 'we are number one!'\n"
   ]
  },
  {
   "attachments": {},
   "cell_type": "markdown",
   "metadata": {},
   "source": [
    "👉 **Loop through a DICTIONARY**"
   ]
  },
  {
   "cell_type": "code",
   "execution_count": null,
   "metadata": {},
   "outputs": [],
   "source": [
    "my_dict = {'Tam': 19, 'Hoa': 20, 'Tuyen': 17}\n"
   ]
  },
  {
   "cell_type": "code",
   "execution_count": null,
   "metadata": {},
   "outputs": [],
   "source": [
    "# Loop through keys:\n"
   ]
  },
  {
   "cell_type": "code",
   "execution_count": null,
   "metadata": {},
   "outputs": [],
   "source": [
    "# Loop through values:\n"
   ]
  },
  {
   "cell_type": "code",
   "execution_count": null,
   "metadata": {},
   "outputs": [],
   "source": [
    "# Loop through pairs key and value:\n"
   ]
  },
  {
   "attachments": {},
   "cell_type": "markdown",
   "metadata": {},
   "source": [
    "👉 **enumerate()** - function adds a counter as the key of the enumerate object."
   ]
  },
  {
   "cell_type": "code",
   "execution_count": null,
   "metadata": {},
   "outputs": [],
   "source": [
    "fruits = ['apple', 'banana', 'cherry', 'orange', 'banana', 'cherry', 'banana', 'cherry', 'orange']\n",
    "\n",
    "enumerate(fruits)"
   ]
  },
  {
   "cell_type": "code",
   "execution_count": null,
   "metadata": {},
   "outputs": [],
   "source": [
    "# by defalt enumerate will start from 0\n"
   ]
  },
  {
   "cell_type": "code",
   "execution_count": null,
   "metadata": {},
   "outputs": [],
   "source": [
    "# If you want it start from 2\n"
   ]
  },
  {
   "cell_type": "code",
   "execution_count": null,
   "metadata": {},
   "outputs": [],
   "source": [
    "# How to loop through a enumerate"
   ]
  },
  {
   "cell_type": "code",
   "execution_count": null,
   "metadata": {},
   "outputs": [],
   "source": [
    "# ❓Ex1: Find the tallest name:\n",
    "students = {'Nam': 170, 'Nữ': 185, 'Hồng': 150, 'Cam': 165, 'Huệ': 175}\n",
    "\n",
    "# ✳️Hint: students.items()"
   ]
  },
  {
   "cell_type": "code",
   "execution_count": null,
   "metadata": {},
   "outputs": [],
   "source": [
    "# ❓Ex2: Find the FIRST number and ITS INDEX divisible by 3:\n",
    "numbers = [1, 32, 11, 243, 77, 897, 666, 964, 738, 1000, 322]\n",
    "\n",
    "# ✳️Hint: \"break\" (opional: find the LAST number divisible by 3)"
   ]
  },
  {
   "cell_type": "code",
   "execution_count": null,
   "metadata": {},
   "outputs": [],
   "source": [
    "# ❓Ex3: Remove duplicated values of small lists in side the below big list:\n",
    "number_lists = [\n",
    "    [10, 12, 11, 200, 12, 200, 3, 3, 5, 7]\n",
    "    [10, 121, 711, 210, 132, 210, 311, 123, 445, 1147, 711, 210]\n",
    "    [1120, 12412, 111, 134200, 3412, 23400, 353, 343, 577, 1120, 12412, 111]\n",
    "]"
   ]
  },
  {
   "cell_type": "markdown",
   "metadata": {},
   "source": [
    "👉 **Nested iteration**"
   ]
  },
  {
   "cell_type": "code",
   "execution_count": 4,
   "metadata": {},
   "outputs": [
    {
     "name": "stdout",
     "output_type": "stream",
     "text": [
      "0 0\n",
      "0 1\n",
      "0 2\n",
      "0 3\n",
      "1 0\n",
      "1 1\n",
      "1 2\n",
      "1 3\n",
      "2 0\n",
      "2 1\n",
      "2 2\n",
      "2 3\n"
     ]
    }
   ],
   "source": [
    "# Example:\n",
    "for i in range(3):\n",
    "    for j in range(4):\n",
    "        print(i, j)"
   ]
  },
  {
   "cell_type": "markdown",
   "metadata": {
    "collapsed": true
   },
   "source": [
    "## 1.3 - while Loops\n",
    "\n",
    "<img src=\"https://www.freecodecamp.org/news/content/images/2020/08/while-loop.jpg\" width=\"350\">\n",
    "\n",
    "The <code>while</code> statement in Python is one of most general ways to perform iteration. A <code>while</code> statement will repeatedly execute a single statement or group of statements as long as the condition is true. The reason it is called a 'loop' is because the code statements are looped through over and over again until the condition is no longer met.\n",
    "\n",
    "The general format of a while loop is:\n",
    "\n",
    "    while test:\n",
    "        code statements\n",
    "    else:\n",
    "        final code statements\n",
    "\n",
    "Let’s look at a few simple <code>while</code> loops in action. "
   ]
  },
  {
   "cell_type": "code",
   "execution_count": null,
   "metadata": {},
   "outputs": [],
   "source": [
    "# print all even numbers below 50:\n"
   ]
  },
  {
   "attachments": {},
   "cell_type": "markdown",
   "metadata": {},
   "source": [
    "## 1.4 - `break`, `continue`, `pass`\n",
    "\n",
    "We can use <code>break</code>, <code>continue</code>, and <code>pass</code> statements in our loops to add additional functionality for various cases.\n",
    "\n",
    "<img src=\"https://almablog-media.s3.ap-south-1.amazonaws.com/Break_Pass_and_Continue_Statements_in_Python_min_69bb0f487a.png\" width=\"600\">"
   ]
  },
  {
   "cell_type": "code",
   "execution_count": null,
   "metadata": {},
   "outputs": [],
   "source": [
    "# Pass:\n",
    "x = 0\n",
    "while x < 10:\n",
    "    if x == 5:\n",
    "        print('FIVE')\n",
    "        pass\n",
    "        print('hello')\n",
    "    elif x ==6:\n",
    "        pass\n",
    "    else:\n",
    "        print(x)\n",
    "    x += 1\n",
    "    "
   ]
  },
  {
   "cell_type": "code",
   "execution_count": null,
   "metadata": {},
   "outputs": [],
   "source": [
    "# Break:\n",
    "x = 0\n",
    "while x < 10:\n",
    "    if x == 5:\n",
    "        print('FIVE')\n",
    "        break\n",
    "        print('hello')\n",
    "    else:\n",
    "        print(x)\n",
    "    x += 1"
   ]
  },
  {
   "cell_type": "code",
   "execution_count": null,
   "metadata": {},
   "outputs": [],
   "source": [
    "# Continue:\n",
    "x = 0\n",
    "while x < 10:\n",
    "    x += 1\n",
    "    if x == 5:\n",
    "        print('FIVE')\n",
    "        continue\n",
    "        print('hello')\n",
    "    else:\n",
    "        print(x)"
   ]
  },
  {
   "cell_type": "markdown",
   "metadata": {},
   "source": [
    "## 😏 CHALLENGE!"
   ]
  },
  {
   "attachments": {},
   "cell_type": "markdown",
   "metadata": {},
   "source": [
    "**FizzBuzz**\n",
    "\n",
    "*Instructions:*\n",
    "\n",
    "You are going to write a program that automatically prints the solution to the FizzBuzz game by using **for-loop** or **while-loop**\n",
    "\n",
    "Write a program that prints the integers from 1 to 100. But for multiples of `3` print `\"Fizz\"` instead of the number, and for the multiples of `5` print `\"Buzz\"`. For numbers which are multiples of both `3` and `5` print `\"FizzBuzz\"`\n",
    "\n",
    "e.g. it might start off like this:\n",
    "\n",
    "```\n",
    "`1\n",
    "2\n",
    "Fizz\n",
    "4\n",
    "Buzz\n",
    "Fizz\n",
    "7\n",
    "8\n",
    "Fizz\n",
    "Buzz\n",
    "11\n",
    "Fizz\n",
    "13\n",
    "14\n",
    "FizzBuzz`\n",
    "```\n",
    "\n",
    "`.... etc.`\n",
    "\n",
    "*✳️ Note:*\n",
    "\n",
    "1. Remember your answer should start from 1 and go up to and including 100. \n",
    "2. Each number/text should be printed on a separate line.\n",
    "3. Write 2 versions: verion 1 use `for` loop and version 2 use `while` loop\n",
    "\n"
   ]
  },
  {
   "cell_type": "code",
   "execution_count": null,
   "metadata": {},
   "outputs": [],
   "source": [
    "# Your code here!\n"
   ]
  }
 ],
 "metadata": {
  "kernelspec": {
   "display_name": "Python 3.9.15 ('DS')",
   "language": "python",
   "name": "python3"
  },
  "language_info": {
   "codemirror_mode": {
    "name": "ipython",
    "version": 3
   },
   "file_extension": ".py",
   "mimetype": "text/x-python",
   "name": "python",
   "nbconvert_exporter": "python",
   "pygments_lexer": "ipython3",
   "version": "3.9.6"
  },
  "orig_nbformat": 4,
  "vscode": {
   "interpreter": {
    "hash": "f6a489820ea9c3bee1f0f43e438377dc5d62d7d6492a1bda6ad9e3f1b3e1b203"
   }
  }
 },
 "nbformat": 4,
 "nbformat_minor": 2
}
