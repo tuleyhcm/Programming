{
 "cells": [
  {
   "attachments": {},
   "cell_type": "markdown",
   "metadata": {},
   "source": [
    "# L2 - Homeworks\n",
    "<img src=\"https://pbs.twimg.com/media/De9Vi4EXUAEq9Rz.jpg\" width=\"300\">"
   ]
  },
  {
   "attachments": {},
   "cell_type": "markdown",
   "metadata": {},
   "source": [
    "### ❓**Ex1. Reverse a list:**\n",
    "\n",
    "Given:\n",
    "\n",
    "`list1 = [100, 200, 300, 400, 500]`\n",
    "\n",
    "Expected output:\n",
    "\n",
    "`[500, 400, 300, 200, 100]`"
   ]
  },
  {
   "cell_type": "code",
   "execution_count": 3,
   "metadata": {},
   "outputs": [],
   "source": [
    "list1 = [100, 200, 300, 400, 500]"
   ]
  },
  {
   "cell_type": "code",
   "execution_count": 4,
   "metadata": {},
   "outputs": [
    {
     "data": {
      "text/plain": [
       "[500, 400, 300, 200, 100]"
      ]
     },
     "execution_count": 4,
     "metadata": {},
     "output_type": "execute_result"
    }
   ],
   "source": [
    "# Your code here"
   ]
  },
  {
   "attachments": {},
   "cell_type": "markdown",
   "metadata": {},
   "source": [
    "### ❓**Ex2: Convert two lists into a dictionary**\n",
    "\n",
    "Below are the two lists. Help me to convert them into a dictionary in a way that items from list1 is the `key` and items from list2 is the `value`\n",
    "\n",
    "Expected output: \n",
    "\n",
    "`{'Ten': 10, 'Twenty': 20, 'Thirty': 30}`"
   ]
  },
  {
   "cell_type": "code",
   "execution_count": 2,
   "metadata": {},
   "outputs": [],
   "source": [
    "list1 = ['Ten', 'Twenty', 'Thirty']\n",
    "list2 = [10, 20, 30]"
   ]
  },
  {
   "cell_type": "code",
   "execution_count": 3,
   "metadata": {},
   "outputs": [
    {
     "data": {
      "text/plain": [
       "{'Ten': 10, 'Twenty': 20, 'Thirty': 30}"
      ]
     },
     "execution_count": 3,
     "metadata": {},
     "output_type": "execute_result"
    }
   ],
   "source": [
    "# Your code here\n"
   ]
  },
  {
   "attachments": {},
   "cell_type": "markdown",
   "metadata": {},
   "source": [
    "### ❓**Ex3: Get all numbers inside the below sentence:**\n",
    "\n",
    "<img src=\"https://i1-english.vnecdn.net/2023/04/03/ml1-1680522036.jpg?w=1200&h=0&q=100&dpr=1&fit=crop&s=RyiN81Bji7ya3bJVpicL8w\" width=\"600\">\n",
    "\n",
    "✳️ Hint: *str*`.isnumeric()`\n",
    "\n",
    "Expected output: `'313732019661500016270'`\n"
   ]
  },
  {
   "cell_type": "code",
   "execution_count": 5,
   "metadata": {},
   "outputs": [],
   "source": [
    "sen = '''At the auction held in Paris, France, on March 31, there were 373 paintings, lacquerware, ceramics, artifacts from the\n",
    "Nguyen Dynasty, and bronze and ceramic works belonging to the School of Bien Hoa in the 20th century. A 1966 three-panel lacquer \n",
    "painting \"Phong Canh Dong Bang Song Cuu Long\" (Landscape of the Mekong Delta) by Nguyen Van Thanh was sold for 15,000 euros ($16,270).\n",
    "It depicts a river with houses nestling under trees, a bridge over the river and children bathing buffaloes.'''\n"
   ]
  },
  {
   "cell_type": "code",
   "execution_count": 11,
   "metadata": {},
   "outputs": [
    {
     "data": {
      "text/plain": [
       "'313732019661500016270'"
      ]
     },
     "execution_count": 11,
     "metadata": {},
     "output_type": "execute_result"
    }
   ],
   "source": [
    "# your code here:"
   ]
  },
  {
   "attachments": {},
   "cell_type": "markdown",
   "metadata": {},
   "source": [
    "### **Ex4: Get all words contain leter \"o\" inside in the passage `sen`?**\n",
    "\n",
    "✳️ Hint: operator: `in` and `not in`"
   ]
  },
  {
   "cell_type": "code",
   "execution_count": 13,
   "metadata": {},
   "outputs": [],
   "source": [
    "sen = '''At the auction held in Paris, France, on March 31, there were 373 paintings, lacquerware, ceramics, artifacts from the\n",
    "Nguyen Dynasty, and bronze and ceramic works belonging to the School of Bien Hoa in the 20th century. A 1966 three-panel lacquer \n",
    "painting \"Phong Canh Dong Bang Song Cuu Long\" (Landscape of the Mekong Delta) by Nguyen Van Thanh was sold for 15,000 euros ($16,270).\n",
    "It depicts a river with houses nestling under trees, a bridge over the river and children bathing buffaloes.'''"
   ]
  },
  {
   "cell_type": "code",
   "execution_count": 17,
   "metadata": {},
   "outputs": [
    {
     "data": {
      "text/plain": [
       "['auction',\n",
       " 'on',\n",
       " 'from',\n",
       " 'bronze',\n",
       " 'works',\n",
       " 'belonging',\n",
       " 'to',\n",
       " 'School',\n",
       " 'of',\n",
       " 'Hoa',\n",
       " '\"Phong',\n",
       " 'Dong',\n",
       " 'Song',\n",
       " 'Long\"',\n",
       " 'of',\n",
       " 'Mekong',\n",
       " 'sold',\n",
       " 'for',\n",
       " 'euros',\n",
       " 'houses',\n",
       " 'over',\n",
       " 'buffaloes.']"
      ]
     },
     "execution_count": 17,
     "metadata": {},
     "output_type": "execute_result"
    }
   ],
   "source": [
    "# Your answer here:\n"
   ]
  },
  {
   "attachments": {},
   "cell_type": "markdown",
   "metadata": {},
   "source": [
    "### ❓**Ex5: Print the `value` of key `history` from the below `sampleDict`**\n",
    "\n",
    "Expected output: 80"
   ]
  },
  {
   "cell_type": "code",
   "execution_count": 18,
   "metadata": {},
   "outputs": [],
   "source": [
    "sampleDict = {\n",
    "    \"class\": {\n",
    "        \"student\": {\n",
    "            \"name\": \"Mike\",\n",
    "            \"marks\": {\n",
    "                \"physics\": 70,\n",
    "                \"history\": 80\n",
    "            }\n",
    "        }\n",
    "    }\n",
    "}"
   ]
  },
  {
   "cell_type": "code",
   "execution_count": 22,
   "metadata": {},
   "outputs": [
    {
     "data": {
      "text/plain": [
       "80"
      ]
     },
     "execution_count": 22,
     "metadata": {},
     "output_type": "execute_result"
    }
   ],
   "source": [
    "# your code here:"
   ]
  },
  {
   "attachments": {},
   "cell_type": "markdown",
   "metadata": {},
   "source": [
    "### ❓ **Ex6: Delete a list of keys from a dictionary**\n",
    "\n",
    "given a list of keys that you want to delete inside the sample_dict below:\n",
    "\n",
    "expected output: `{'age': 25, 'city': 'New york'}`"
   ]
  },
  {
   "cell_type": "code",
   "execution_count": 26,
   "metadata": {},
   "outputs": [],
   "source": [
    "sample_dict = {\n",
    "    \"name\": \"Kelly\",\n",
    "    \"age\": 25,\n",
    "    \"salary\": 8000,\n",
    "    \"city\": \"New york\"\n",
    "}\n",
    "\n",
    "# Keys need to remove\n",
    "remove_keys = [\"name\", \"salary\"]"
   ]
  },
  {
   "cell_type": "code",
   "execution_count": null,
   "metadata": {},
   "outputs": [],
   "source": [
    "# your code here\n"
   ]
  },
  {
   "attachments": {},
   "cell_type": "markdown",
   "metadata": {},
   "source": [
    "### ❓**Ex7: Remove duplicated values inside the below list with 2 versions:**\n",
    "\n",
    "✳️ Hint: operator: `in` and `not in`"
   ]
  },
  {
   "cell_type": "code",
   "execution_count": 5,
   "metadata": {},
   "outputs": [],
   "source": [
    "number_list = [10, 12, 4, 12, 11, 33, 234, 12, 3 , 10, 4, 33, 1000, 234]\n"
   ]
  },
  {
   "cell_type": "code",
   "execution_count": 7,
   "metadata": {},
   "outputs": [
    {
     "data": {
      "text/plain": [
       "[33, 3, 4, 1000, 10, 11, 12, 234]"
      ]
     },
     "execution_count": 7,
     "metadata": {},
     "output_type": "execute_result"
    }
   ],
   "source": [
    "# version 1: không quan tâm đến thứ tự vị trí của các số trong number_list\n",
    "# your code here:"
   ]
  },
  {
   "cell_type": "code",
   "execution_count": 8,
   "metadata": {},
   "outputs": [
    {
     "data": {
      "text/plain": [
       "[10, 12, 4, 11, 33, 234, 3, 1000]"
      ]
     },
     "execution_count": 8,
     "metadata": {},
     "output_type": "execute_result"
    }
   ],
   "source": [
    "# version 2: Không thay đổi thứ tự vị trí các con số trong number_list\n",
    "# your code here:\n"
   ]
  },
  {
   "attachments": {},
   "cell_type": "markdown",
   "metadata": {},
   "source": [
    "### ❓ Ex 8: **PASSWORD GENERATOR**\n",
    "\n",
    "I have given a list of letters, numbers and symbols as below, your task is to create a program that automatically generates a trong passwords with number of letter, symbol and number was inputed from keyboard.\n",
    "\n",
    "You can refer to the video `L2_password_generator.mp4` to see how this program works. Good luck! 😉\n",
    "\n",
    "✳️ Hint:\n",
    "+ `break` help to stop the loop\n",
    "+ set parameter ```flush=True``` in the `print` function will help to prevent printed results not display out to screen:\n",
    "\n",
    "```python\n",
    "        print('hello world!', flush = True)\n",
    "```"
   ]
  },
  {
   "cell_type": "code",
   "execution_count": 31,
   "metadata": {},
   "outputs": [],
   "source": [
    "import random\n",
    "letters = ['a', 'b', 'c', 'd', 'e', 'f', 'g', 'h', 'i', 'j', 'k', 'l', 'm', 'n', \\\n",
    "    'o', 'p', 'q', 'r', 's', 't', 'u', 'v', 'w', 'x', 'y', 'z', 'A', 'B', 'C', 'D'\\\n",
    "        , 'E', 'F', 'G', 'H', 'I', 'J', 'K', 'L', 'M', 'N', 'O', 'P', 'Q', 'R', 'S'\\\n",
    "            , 'T', 'U', 'V', 'W', 'X', 'Y', 'Z']\n",
    "numbers = ['0', '1', '2', '3', '4', '5', '6', '7', '8', '9']\n",
    "symbols = ['!', '#', '$', '%', '&', '(', ')', '*', '+']"
   ]
  },
  {
   "cell_type": "code",
   "execution_count": 27,
   "metadata": {},
   "outputs": [],
   "source": [
    "# your code here:"
   ]
  }
 ],
 "metadata": {
  "kernelspec": {
   "display_name": "Python 3.9.15 ('DS')",
   "language": "python",
   "name": "python3"
  },
  "language_info": {
   "codemirror_mode": {
    "name": "ipython",
    "version": 3
   },
   "file_extension": ".py",
   "mimetype": "text/x-python",
   "name": "python",
   "nbconvert_exporter": "python",
   "pygments_lexer": "ipython3",
   "version": "3.9.13"
  },
  "orig_nbformat": 4,
  "vscode": {
   "interpreter": {
    "hash": "f6a489820ea9c3bee1f0f43e438377dc5d62d7d6492a1bda6ad9e3f1b3e1b203"
   }
  }
 },
 "nbformat": 4,
 "nbformat_minor": 2
}
