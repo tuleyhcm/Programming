{
 "cells": [
  {
   "attachments": {},
   "cell_type": "markdown",
   "metadata": {},
   "source": [
    "👉 Ex1: Nhập từ bàn phím độ dài 2 cạnh của hình chữ nhật và in ra màn hình diện tích của hình chữ nhật đó."
   ]
  },
  {
   "attachments": {},
   "cell_type": "markdown",
   "metadata": {},
   "source": [
    "✳️ hint: \n",
    "\n",
    "+ `int(*str*)`: to convert a string to integer\n",
    "+ `float(*str*)`: to convert a string to float"
   ]
  },
  {
   "cell_type": "code",
   "execution_count": null,
   "metadata": {},
   "outputs": [],
   "source": [
    "# Your code here!\n"
   ]
  },
  {
   "attachments": {},
   "cell_type": "markdown",
   "metadata": {},
   "source": [
    "👉 Ex2: Chuyển các ký tự trong biến words thành: in hoa; viết hoa chữ cái đầu, chữ thường"
   ]
  },
  {
   "cell_type": "code",
   "execution_count": null,
   "metadata": {},
   "outputs": [],
   "source": [
    "words = 'You only live once, but if you do it right, once is enough.'"
   ]
  },
  {
   "cell_type": "code",
   "execution_count": null,
   "metadata": {},
   "outputs": [],
   "source": [
    "# Your code here!\n",
    "\n"
   ]
  },
  {
   "attachments": {},
   "cell_type": "markdown",
   "metadata": {},
   "source": [
    "👉 Ex3: Lấy chữ 'live' từ trong chuỗi words"
   ]
  },
  {
   "cell_type": "code",
   "execution_count": null,
   "metadata": {},
   "outputs": [],
   "source": [
    "# Your code here!"
   ]
  },
  {
   "attachments": {},
   "cell_type": "markdown",
   "metadata": {},
   "source": [
    "👉 Ex4: Vị trí (index) của dấu \",\" thứ 2 là bao nhiêu? "
   ]
  },
  {
   "cell_type": "code",
   "execution_count": null,
   "metadata": {},
   "outputs": [],
   "source": [
    "# Your code here!\n"
   ]
  },
  {
   "attachments": {},
   "cell_type": "markdown",
   "metadata": {},
   "source": [
    "👉 Ex5: Đảo chiểu chuỗi `words` "
   ]
  },
  {
   "cell_type": "code",
   "execution_count": null,
   "metadata": {},
   "outputs": [],
   "source": [
    "# Your code here!"
   ]
  },
  {
   "attachments": {},
   "cell_type": "markdown",
   "metadata": {},
   "source": [
    "👉 Ex6: Chỉ dùng lệnh (tức là bạn không cần phải đếm) để lấy ra câu` \"but if you do it right\" `trong chuỗi `words`"
   ]
  },
  {
   "cell_type": "code",
   "execution_count": null,
   "metadata": {},
   "outputs": [],
   "source": [
    "# Your code here!"
   ]
  },
  {
   "attachments": {},
   "cell_type": "markdown",
   "metadata": {},
   "source": [
    "👉 Ex7: Nhập từ bàn phím 1 tên của một file bất kì, nhiệm vụ của bạn là in ra màn hình đuôi của tên file đó:\n",
    "\n",
    "Ví dụ:\n",
    "+ Bạn input: `'image.jpg'`\n",
    "+ Kết quả in ra màn hình là: `'.jpg'`"
   ]
  },
  {
   "cell_type": "code",
   "execution_count": null,
   "metadata": {},
   "outputs": [],
   "source": [
    "# Your code here!\n"
   ]
  },
  {
   "attachments": {},
   "cell_type": "markdown",
   "metadata": {},
   "source": [
    "👉 Ex8: Nhập từ bàn phím họ và tên của bạn, sau đó bạn in ra màn hình họ và độ dài họ và tên của bạn:\n",
    "\n",
    "Ví dụ:\n",
    "+ Bạn input: `'Trần Thành Tâm'`\n",
    "+ Kết quả in ra màn hình là: `Bạn họ \"Trần\", tên bạn có độ dài là: 14`"
   ]
  },
  {
   "cell_type": "code",
   "execution_count": null,
   "metadata": {},
   "outputs": [],
   "source": [
    "# Your code here!\n"
   ]
  },
  {
   "cell_type": "markdown",
   "metadata": {},
   "source": [
    "👉 Ex9: Tách các thành phần trong chuỗi `createdDate` thành các phần nhỏ là năm, tháng, ngày.\n",
    "\n",
    "+ Expected output: `['2024', '12', '31']`"
   ]
  },
  {
   "cell_type": "code",
   "execution_count": null,
   "metadata": {},
   "outputs": [],
   "source": [
    "createdDate = '2024-12-31'"
   ]
  },
  {
   "cell_type": "code",
   "execution_count": null,
   "metadata": {},
   "outputs": [],
   "source": [
    "# Your code here!"
   ]
  },
  {
   "cell_type": "markdown",
   "metadata": {},
   "source": [
    "👉 Ex10: Chọn câu đúng 🤔\n",
    "\n",
    "```python\n",
    "    x = 10\n",
    "    y = 15\n",
    "\n",
    "    x += 6\n",
    "\n",
    "    x < y\n",
    "```\n",
    "Khi chạy đoạn code trên, kết quả sẽ là:\n",
    "\n",
    "+ A: True\n",
    "+ B: False\n"
   ]
  },
  {
   "cell_type": "code",
   "execution_count": null,
   "metadata": {},
   "outputs": [],
   "source": [
    "# your answer here: "
   ]
  },
  {
   "cell_type": "markdown",
   "metadata": {},
   "source": [
    "👉 Ex11: Chọn câu đúng 🤔\n",
    "\n",
    "```python\n",
    "    x = 10\n",
    "    y = 15\n",
    "\n",
    "    x *= 2\n",
    "\n",
    "    x <= y\n",
    "```\n",
    "Khi chạy đoạn code trên, kết quả sẽ là:\n",
    "\n",
    "+ A: True\n",
    "+ B: False\n"
   ]
  },
  {
   "cell_type": "code",
   "execution_count": null,
   "metadata": {},
   "outputs": [],
   "source": [
    "# your answer here: "
   ]
  },
  {
   "cell_type": "markdown",
   "metadata": {},
   "source": [
    "👉 Ex12: Chọn câu đúng 🤔\n",
    "\n",
    "```python\n",
    "    x = 10\n",
    "    y = 15\n",
    "\n",
    "    x += 5\n",
    "\n",
    "    (x > 12) and (x <= y) \n",
    "```\n",
    "Khi chạy đoạn code trên, kết quả sẽ là:\n",
    "\n",
    "+ A: True\n",
    "+ B: False\n"
   ]
  },
  {
   "cell_type": "code",
   "execution_count": null,
   "metadata": {},
   "outputs": [],
   "source": [
    "# your answer here: "
   ]
  },
  {
   "cell_type": "markdown",
   "metadata": {},
   "source": [
    "👉 Ex13: Chọn câu đúng 🤔\n",
    "\n",
    "```python\n",
    "    x = 10\n",
    "    y = 15\n",
    "\n",
    "    x += 5\n",
    "\n",
    "    (x < 12) or (x <= y) \n",
    "```\n",
    "Khi chạy đoạn code trên, kết quả sẽ là:\n",
    "\n",
    "+ A: True\n",
    "+ B: False\n"
   ]
  },
  {
   "cell_type": "code",
   "execution_count": null,
   "metadata": {},
   "outputs": [],
   "source": [
    "# your answer here: "
   ]
  },
  {
   "cell_type": "markdown",
   "metadata": {},
   "source": [
    "👉 Ex14: Chọn câu đúng 🤔\n",
    "\n",
    "```python\n",
    "    x = 10\n",
    "    y = 15\n",
    "\n",
    "    x += 5\n",
    "\n",
    "    ( (x > 12) and (x < y) ) or (x > 10 ) \n",
    "```\n",
    "Khi chạy đoạn code trên, kết quả sẽ là:\n",
    "\n",
    "+ A: True\n",
    "+ B: False\n"
   ]
  },
  {
   "cell_type": "code",
   "execution_count": null,
   "metadata": {},
   "outputs": [],
   "source": [
    "# your answer here:"
   ]
  }
 ],
 "metadata": {
  "kernelspec": {
   "display_name": "Python 3.9.15 ('DS')",
   "language": "python",
   "name": "python3"
  },
  "language_info": {
   "codemirror_mode": {
    "name": "ipython",
    "version": 3
   },
   "file_extension": ".py",
   "mimetype": "text/x-python",
   "name": "python",
   "nbconvert_exporter": "python",
   "pygments_lexer": "ipython3",
   "version": "3.11.7"
  },
  "orig_nbformat": 4,
  "vscode": {
   "interpreter": {
    "hash": "f6a489820ea9c3bee1f0f43e438377dc5d62d7d6492a1bda6ad9e3f1b3e1b203"
   }
  }
 },
 "nbformat": 4,
 "nbformat_minor": 2
}
